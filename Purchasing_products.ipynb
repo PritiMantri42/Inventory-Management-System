{
 "cells": [
  {
   "cell_type": "markdown",
   "metadata": {
    "id": "DNJ7CLqAucq1"
   },
   "source": [
    "## Read Inventory"
   ]
  },
  {
   "cell_type": "code",
   "execution_count": 1,
   "metadata": {
    "id": "KRf9qXSmFHAd"
   },
   "outputs": [],
   "source": [
    "import json\n",
    "\n",
    "fd = open(\"record.json\",'r')\n",
    "r = fd.read()\n",
    "fd.close()\n",
    "\n",
    "records = json.loads(r)"
   ]
  },
  {
   "cell_type": "code",
   "execution_count": 3,
   "metadata": {
    "colab": {
     "base_uri": "https://localhost:8080/"
    },
    "id": "I-gSlBVqtk7v",
    "outputId": "0ee1183c-541f-4cde-db69-4ca6270826ea"
   },
   "outputs": [
    {
     "data": {
      "text/plain": [
       "{'1001': {'Name': 'Chococake',\n",
       "  'Category': 'Bakery',\n",
       "  'Expiry Date': '30/12/2021',\n",
       "  'Price': 100,\n",
       "  'Avl.Quantity': 20},\n",
       " '1002': {'Name': 'MilkCake',\n",
       "  'Category': 'Bakery',\n",
       "  'Expiry Date': '30/10/2021',\n",
       "  'Price': 400,\n",
       "  'Avl.Quantity': 50},\n",
       " '1003': {'Name': 'Candy',\n",
       "  'Category': 'Snacks',\n",
       "  'Expiry Date': '30/10/2021',\n",
       "  'Price': 10,\n",
       "  'Avl.Quantity': 100},\n",
       " '1004': {'Name': 'Whipping Cream',\n",
       "  'Category': 'Dairy/Fridge',\n",
       "  'Expiry Date': '30/10/2023',\n",
       "  'Price': 180,\n",
       "  'Avl.Quantity': 10},\n",
       " '1005': {'Name': 'Maggi',\n",
       "  'Category': 'Snacks',\n",
       "  'Expiry Date': '30/12/2022',\n",
       "  'Price': 24,\n",
       "  'Avl.Quantity': 50},\n",
       " '1006': {'Name': 'Cake',\n",
       "  'Category': 'Bakery',\n",
       "  'Expiry Date': '30/11/2021',\n",
       "  'Price': 300,\n",
       "  'Avl.Quantity': 10},\n",
       " '1007': {'Name': 'Cookies',\n",
       "  'Category': 'Bakery',\n",
       "  'Expiry Date': '31/12/2021',\n",
       "  'Price': 55,\n",
       "  'Avl.Quantity': 20},\n",
       " '1008': {'Name': 'Pastry',\n",
       "  'Category': 'Bakery',\n",
       "  'Expiry Date': '01/10/2021',\n",
       "  'Price': 45,\n",
       "  'Avl.Quantity': 10},\n",
       " '1009': {'Name': 'Toast',\n",
       "  'Category': 'Bakery',\n",
       "  'Expiry Date': '30/10/2021',\n",
       "  'Price': 160,\n",
       "  'Avl.Quantity': 10},\n",
       " '1010': {'Name': 'Chips',\n",
       "  'Category': 'Snacks',\n",
       "  'Expiry Date': '30/10/2021',\n",
       "  'Price': 5,\n",
       "  'Avl.Quantity': 50},\n",
       " '1011': {'Name': 'Popcorn',\n",
       "  'Category': 'Snacks',\n",
       "  'Expiry Date': '30/10/2021',\n",
       "  'Price': 110,\n",
       "  'Avl.Quantity': 50},\n",
       " '1012': {'Name': 'Almonds',\n",
       "  'Category': 'Dry Fruits',\n",
       "  'Expiry Date': '30/10/2023',\n",
       "  'Price': 180,\n",
       "  'Avl.Quantity': 40},\n",
       " '1013': {'Name': 'Cashew',\n",
       "  'Category': 'Dry Fruits',\n",
       "  'Expiry Date': '30/10/2023',\n",
       "  'Price': 240,\n",
       "  'Avl.Quantity': 20},\n",
       " '1014': {'Name': 'Little Hearts',\n",
       "  'Category': 'Snacks',\n",
       "  'Expiry Date': '30/10/2022',\n",
       "  'Price': 20,\n",
       "  'Avl.Quantity': 50},\n",
       " '1015': {'Name': 'Yogurt',\n",
       "  'Category': 'Dairy/Fridge',\n",
       "  'Expiry Date': '30/10/2021',\n",
       "  'Price': 25,\n",
       "  'Avl.Quantity': 25},\n",
       " '1016': {'Name': '5 Star',\n",
       "  'Category': 'Chocolate',\n",
       "  'Expiry Date': '30/10/2021',\n",
       "  'Price': 15,\n",
       "  'Avl.Quantity': 34},\n",
       " '1017': {'Name': 'Dairy Milk',\n",
       "  'Category': 'Chocolate',\n",
       "  'Expiry Date': '30/10/2021',\n",
       "  'Price': 25,\n",
       "  'Avl.Quantity': 26},\n",
       " '1018': {'Name': 'Snickers',\n",
       "  'Category': 'Chocolate',\n",
       "  'Expiry Date': '30/10/2021',\n",
       "  'Price': 20,\n",
       "  'Avl.Quantity': 30},\n",
       " '1019': {'Name': 'Milky Bar',\n",
       "  'Category': 'Chocolate',\n",
       "  'Expiry Date': '30/10/2021',\n",
       "  'Price': 15,\n",
       "  'Avl.Quantity': 14},\n",
       " '1020': {'Name': 'Ferrero Rocher',\n",
       "  'Category': 'Chocolate',\n",
       "  'Expiry Date': '30/10/2021',\n",
       "  'Price': 100,\n",
       "  'Avl.Quantity': 15},\n",
       " '1021': {'Name': 'Bourbon',\n",
       "  'Category': 'Biscuit',\n",
       "  'Expiry Date': '18/06/2021',\n",
       "  'Price': 25,\n",
       "  'Avl.Quantity': 40},\n",
       " '1022': {'Name': 'Jim Jam',\n",
       "  'Category': 'Biscuit',\n",
       "  'Expiry Date': '18/06/2021',\n",
       "  'Price': 24,\n",
       "  'Avl.Quantity': 35},\n",
       " '1023': {'Name': 'Mariegold',\n",
       "  'Category': 'Biscuit',\n",
       "  'Expiry Date': '18/06/2021',\n",
       "  'Price': 30,\n",
       "  'Avl.Quantity': 45},\n",
       " '1024': {'Name': 'Oreo',\n",
       "  'Category': 'Biscuit',\n",
       "  'Expiry Date': '18/06/2021',\n",
       "  'Price': 20,\n",
       "  'Avl.Quantity': 25},\n",
       " '1025': {'Name': 'Coconut Milk',\n",
       "  'Category': 'Canned Goods',\n",
       "  'Expiry Date': '30/06/2023',\n",
       "  'Price': 55,\n",
       "  'Avl.Quantity': 15},\n",
       " '1026': {'Name': 'Ketchup',\n",
       "  'Category': 'Canned Goods',\n",
       "  'Expiry Date': '30/06/2023',\n",
       "  'Price': 50,\n",
       "  'Avl.Quantity': 25},\n",
       " '1027': {'Name': 'Olives',\n",
       "  'Category': 'Canned Goods',\n",
       "  'Expiry Date': '30/06/2023',\n",
       "  'Price': 40,\n",
       "  'Avl.Quantity': 20},\n",
       " '1028': {'Name': 'Sunsilk',\n",
       "  'Category': 'Shampoo',\n",
       "  'Expiry Date': '30/06/2022',\n",
       "  'Price': 105,\n",
       "  'Avl.Quantity': 20},\n",
       " '1029': {'Name': 'TRESemme',\n",
       "  'Category': 'Shampoo',\n",
       "  'Expiry Date': '30/06/2022',\n",
       "  'Price': 110,\n",
       "  'Avl.Quantity': 15},\n",
       " '1030': {'Name': 'Kesh Kanti',\n",
       "  'Category': 'Shampoo',\n",
       "  'Expiry Date': '30/06/2022',\n",
       "  'Price': 75,\n",
       "  'Avl.Quantity': 25},\n",
       " '1031': {'Name': 'L’Oreal',\n",
       "  'Category': 'Shampoo',\n",
       "  'Expiry Date': '30/06/2022',\n",
       "  'Price': 125,\n",
       "  'Avl.Quantity': 10}}"
      ]
     },
     "execution_count": 3,
     "metadata": {},
     "output_type": "execute_result"
    }
   ],
   "source": [
    "records"
   ]
  },
  {
   "cell_type": "code",
   "execution_count": 3,
   "metadata": {
    "colab": {
     "background_save": true
    },
    "id": "Kqd3lCdMvE20",
    "outputId": "24589504-9d3f-40f7-9c26-e3f315a9d22d"
   },
   "outputs": [],
   "source": [
    "i=0\n",
    "sales={}\n",
    "def purchase():\n",
    "  global i  \n",
    "  prod_id  = str(input(\"Enter the product_Id: \"))\n",
    "  prod_quant = int(input(\"Enter the quantity: \"))\n",
    "  print(\"Product: \", records[prod_id]['Name'])\n",
    "  print(\"Price: \", records[prod_id]['Price'])\n",
    "  print(\"Billing Amount: \", records[prod_id]['Price'] * prod_quant)\n",
    "  records[prod_id]['Avl.Quantity'] = records[prod_id]['Avl.Quantity'] - prod_quant\n",
    "  sales[1000+i]={'Product ID' : prod_id, 'Quantity' : prod_quant, 'Total Amount': records[prod_id]['Price'] * prod_quant}\n",
    "  i=i+1\n",
    "  return"
   ]
  },
  {
   "cell_type": "code",
   "execution_count": 4,
   "metadata": {},
   "outputs": [
    {
     "name": "stdout",
     "output_type": "stream",
     "text": [
      "Enter the product_Id: 1001\n",
      "Enter the quantity: 15\n",
      "Product:  Chococake\n",
      "Price:  100\n",
      "Billing Amount:  1500\n"
     ]
    }
   ],
   "source": [
    "purchase()"
   ]
  },
  {
   "cell_type": "code",
   "execution_count": 5,
   "metadata": {},
   "outputs": [
    {
     "name": "stdout",
     "output_type": "stream",
     "text": [
      "Enter the product_Id: 1040\n",
      "Enter the quantity: 4\n",
      "Product:  Karachi\n",
      "Price:  200\n",
      "Billing Amount:  800\n"
     ]
    }
   ],
   "source": [
    "purchase()"
   ]
  },
  {
   "cell_type": "code",
   "execution_count": 6,
   "metadata": {},
   "outputs": [
    {
     "name": "stdout",
     "output_type": "stream",
     "text": [
      "Enter the product_Id: 1037\n",
      "Enter the quantity: 3\n",
      "Product:  Vanilla\n",
      "Price:  50\n",
      "Billing Amount:  150\n"
     ]
    }
   ],
   "source": [
    "purchase()"
   ]
  },
  {
   "cell_type": "code",
   "execution_count": 7,
   "metadata": {},
   "outputs": [
    {
     "name": "stdout",
     "output_type": "stream",
     "text": [
      "Enter the product_Id: 1023\n",
      "Enter the quantity: 4\n",
      "Product:  Mariegold\n",
      "Price:  30\n",
      "Billing Amount:  120\n"
     ]
    }
   ],
   "source": [
    "purchase()"
   ]
  },
  {
   "cell_type": "code",
   "execution_count": 8,
   "metadata": {},
   "outputs": [
    {
     "name": "stdout",
     "output_type": "stream",
     "text": [
      "Enter the product_Id: 1009\n",
      "Enter the quantity: 5\n",
      "Product:  Toast\n",
      "Price:  160\n",
      "Billing Amount:  800\n"
     ]
    }
   ],
   "source": [
    "purchase()"
   ]
  },
  {
   "cell_type": "code",
   "execution_count": 9,
   "metadata": {},
   "outputs": [
    {
     "name": "stdout",
     "output_type": "stream",
     "text": [
      "Enter the product_Id: 1004\n",
      "Enter the quantity: 4\n",
      "Product:  Whipping Cream\n",
      "Price:  180\n",
      "Billing Amount:  720\n"
     ]
    }
   ],
   "source": [
    "purchase()"
   ]
  },
  {
   "cell_type": "code",
   "execution_count": 10,
   "metadata": {},
   "outputs": [
    {
     "name": "stdout",
     "output_type": "stream",
     "text": [
      "Enter the product_Id: 1012\n",
      "Enter the quantity: 7\n",
      "Product:  Almonds\n",
      "Price:  180\n",
      "Billing Amount:  1260\n"
     ]
    }
   ],
   "source": [
    "purchase()"
   ]
  },
  {
   "cell_type": "code",
   "execution_count": 11,
   "metadata": {},
   "outputs": [
    {
     "name": "stdout",
     "output_type": "stream",
     "text": [
      "Enter the product_Id: 1017\n",
      "Enter the quantity: 5\n",
      "Product:  Dairy Milk\n",
      "Price:  25\n",
      "Billing Amount:  125\n"
     ]
    }
   ],
   "source": [
    "purchase()\n"
   ]
  },
  {
   "cell_type": "code",
   "execution_count": 12,
   "metadata": {},
   "outputs": [
    {
     "data": {
      "text/plain": [
       "{'1001': {'Name': 'Chococake',\n",
       "  'Category': 'Bakery',\n",
       "  'Expiry Date': '30/12/2021',\n",
       "  'Price': 100,\n",
       "  'Avl.Quantity': 120},\n",
       " '1002': {'Name': 'MilkCake',\n",
       "  'Category': 'Bakery',\n",
       "  'Expiry Date': '30/10/2021',\n",
       "  'Price': 400,\n",
       "  'Avl.Quantity': 55},\n",
       " '1003': {'Name': 'Candy',\n",
       "  'Category': 'Snacks',\n",
       "  'Expiry Date': '30/10/2021',\n",
       "  'Price': 10,\n",
       "  'Avl.Quantity': 100},\n",
       " '1004': {'Name': 'Whipping Cream',\n",
       "  'Category': 'Dairy/Fridge',\n",
       "  'Expiry Date': '30/10/2023',\n",
       "  'Price': 180,\n",
       "  'Avl.Quantity': 6},\n",
       " '1005': {'Name': 'Maggi',\n",
       "  'Category': 'Snacks',\n",
       "  'Expiry Date': '30/12/2022',\n",
       "  'Price': 24,\n",
       "  'Avl.Quantity': 55},\n",
       " '1006': {'Name': 'Cake',\n",
       "  'Category': 'Bakery',\n",
       "  'Expiry Date': '30/11/2021',\n",
       "  'Price': 300,\n",
       "  'Avl.Quantity': 10},\n",
       " '1007': {'Name': 'Cookies',\n",
       "  'Category': 'Bakery',\n",
       "  'Expiry Date': '31/12/2021',\n",
       "  'Price': 55,\n",
       "  'Avl.Quantity': 20},\n",
       " '1008': {'Name': 'Pastry',\n",
       "  'Category': 'Bakery',\n",
       "  'Expiry Date': '01/10/2021',\n",
       "  'Price': 45,\n",
       "  'Avl.Quantity': 10},\n",
       " '1009': {'Name': 'Toast',\n",
       "  'Category': 'Bakery',\n",
       "  'Expiry Date': '30/10/2021',\n",
       "  'Price': 160,\n",
       "  'Avl.Quantity': 5},\n",
       " '1010': {'Name': 'Chips',\n",
       "  'Category': 'Snacks',\n",
       "  'Expiry Date': '30/10/2021',\n",
       "  'Price': 5,\n",
       "  'Avl.Quantity': 60},\n",
       " '1011': {'Name': 'Popcorn',\n",
       "  'Category': 'Snacks',\n",
       "  'Expiry Date': '30/10/2021',\n",
       "  'Price': 110,\n",
       "  'Avl.Quantity': 50},\n",
       " '1012': {'Name': 'Almonds',\n",
       "  'Category': 'Dry Fruits',\n",
       "  'Expiry Date': '30/10/2023',\n",
       "  'Price': 180,\n",
       "  'Avl.Quantity': 33},\n",
       " '1013': {'Name': 'Cashew',\n",
       "  'Category': 'Dry Fruits',\n",
       "  'Expiry Date': '30/10/2023',\n",
       "  'Price': 240,\n",
       "  'Avl.Quantity': 20},\n",
       " '1014': {'Name': 'Little Hearts',\n",
       "  'Category': 'Snacks',\n",
       "  'Expiry Date': '30/10/2022',\n",
       "  'Price': 20,\n",
       "  'Avl.Quantity': 50},\n",
       " '1015': {'Name': 'Yogurt',\n",
       "  'Category': 'Dairy/Fridge',\n",
       "  'Expiry Date': '30/10/2021',\n",
       "  'Price': 25,\n",
       "  'Avl.Quantity': 25},\n",
       " '1016': {'Name': '5 Star',\n",
       "  'Category': 'Chocolate',\n",
       "  'Expiry Date': '30/10/2021',\n",
       "  'Price': 15,\n",
       "  'Avl.Quantity': 34},\n",
       " '1017': {'Name': 'Dairy Milk',\n",
       "  'Category': 'Chocolate',\n",
       "  'Expiry Date': '30/10/2021',\n",
       "  'Price': 25,\n",
       "  'Avl.Quantity': 21},\n",
       " '1018': {'Name': 'Snickers',\n",
       "  'Category': 'Chocolate',\n",
       "  'Expiry Date': '30/10/2021',\n",
       "  'Price': 20,\n",
       "  'Avl.Quantity': 30},\n",
       " '1019': {'Name': 'Milky Bar',\n",
       "  'Category': 'Chocolate',\n",
       "  'Expiry Date': '30/10/2021',\n",
       "  'Price': 15,\n",
       "  'Avl.Quantity': 14},\n",
       " '1020': {'Name': 'Ferrero Rocher',\n",
       "  'Category': 'Chocolate',\n",
       "  'Expiry Date': '30/10/2021',\n",
       "  'Price': 100,\n",
       "  'Avl.Quantity': 15},\n",
       " '1021': {'Name': 'Bourbon',\n",
       "  'Category': 'Biscuit',\n",
       "  'Expiry Date': '18/06/2021',\n",
       "  'Price': 25,\n",
       "  'Avl.Quantity': 40},\n",
       " '1022': {'Name': 'Jim Jam',\n",
       "  'Category': 'Biscuit',\n",
       "  'Expiry Date': '18/06/2021',\n",
       "  'Price': 24,\n",
       "  'Avl.Quantity': 35},\n",
       " '1023': {'Name': 'Mariegold',\n",
       "  'Category': 'Biscuit',\n",
       "  'Expiry Date': '18/06/2021',\n",
       "  'Price': 30,\n",
       "  'Avl.Quantity': 41},\n",
       " '1024': {'Name': 'Oreo',\n",
       "  'Category': 'Biscuit',\n",
       "  'Expiry Date': '18/06/2021',\n",
       "  'Price': 20,\n",
       "  'Avl.Quantity': 25},\n",
       " '1025': {'Name': 'Coconut Milk',\n",
       "  'Category': 'Canned Goods',\n",
       "  'Expiry Date': '30/06/2023',\n",
       "  'Price': 55,\n",
       "  'Avl.Quantity': 15},\n",
       " '1026': {'Name': 'Ketchup',\n",
       "  'Category': 'Canned Goods',\n",
       "  'Expiry Date': '30/06/2023',\n",
       "  'Price': 50,\n",
       "  'Avl.Quantity': 25},\n",
       " '1027': {'Name': 'Olives',\n",
       "  'Category': 'Canned Goods',\n",
       "  'Expiry Date': '30/06/2023',\n",
       "  'Price': 40,\n",
       "  'Avl.Quantity': 20},\n",
       " '1028': {'Name': 'Sunsilk',\n",
       "  'Category': 'Shampoo',\n",
       "  'Expiry Date': '30/06/2022',\n",
       "  'Price': 105,\n",
       "  'Avl.Quantity': 20},\n",
       " '1029': {'Name': 'TRESemme',\n",
       "  'Category': 'Shampoo',\n",
       "  'Expiry Date': '30/06/2022',\n",
       "  'Price': 110,\n",
       "  'Avl.Quantity': 15},\n",
       " '1030': {'Name': 'Kesh Kanti',\n",
       "  'Category': 'Shampoo',\n",
       "  'Expiry Date': '30/06/2022',\n",
       "  'Price': 75,\n",
       "  'Avl.Quantity': 25},\n",
       " '1031': {'Name': 'L’Oreal',\n",
       "  'Category': 'Shampoo',\n",
       "  'Expiry Date': '30/06/2022',\n",
       "  'Price': 125,\n",
       "  'Avl.Quantity': 10},\n",
       " '1032': {'Name': 'Cheese',\n",
       "  'Category': 'Dairy/Fridge',\n",
       "  'Expiry Date': '10/05/2022',\n",
       "  'Price': 40,\n",
       "  'Avl.Quantity': 80},\n",
       " '1033': {'Name': 'Jelly',\n",
       "  'Category': 'Chocolate',\n",
       "  'Expiry Date': '05/05/2022',\n",
       "  'Price': 5,\n",
       "  'Avl.Quantity': 100},\n",
       " '1034': {'Name': 'Gems',\n",
       "  'Category': 'Chocolate',\n",
       "  'Expiry Date': '02/08/2022',\n",
       "  'Price': 5,\n",
       "  'Avl.Quantity': 100},\n",
       " '1035': {'Name': 'Bubbly',\n",
       "  'Category': 'Chocolate',\n",
       "  'Expiry Date': '04/05/2024',\n",
       "  'Price': 80,\n",
       "  'Avl.Quantity': 90},\n",
       " '1036': {'Name': 'Chocolate Icecream',\n",
       "  'Category': 'Icecream',\n",
       "  'Expiry Date': '10/10/2025',\n",
       "  'Price': 70,\n",
       "  'Avl.Quantity': 15},\n",
       " '1037': {'Name': 'Vanilla',\n",
       "  'Category': 'Icecream',\n",
       "  'Expiry Date': '05/08/2024',\n",
       "  'Price': 50,\n",
       "  'Avl.Quantity': 17},\n",
       " '1038': {'Name': 'Thums Up',\n",
       "  'Category': 'Soft Drink',\n",
       "  'Expiry Date': '08/10/2022',\n",
       "  'Price': 95,\n",
       "  'Avl.Quantity': 60},\n",
       " '1039': {'Name': 'Sprite',\n",
       "  'Category': 'Soft Drink',\n",
       "  'Expiry Date': '09/10/2023',\n",
       "  'Price': 90,\n",
       "  'Avl.Quantity': 50},\n",
       " '1040': {'Name': 'Karachi',\n",
       "  'Category': 'Biscuit',\n",
       "  'Expiry Date': '10/10/2025',\n",
       "  'Price': 200,\n",
       "  'Avl.Quantity': 16}}"
      ]
     },
     "execution_count": 12,
     "metadata": {},
     "output_type": "execute_result"
    }
   ],
   "source": [
    "records"
   ]
  },
  {
   "cell_type": "code",
   "execution_count": 13,
   "metadata": {},
   "outputs": [
    {
     "data": {
      "text/plain": [
       "{1000: {'Product ID': '1001', 'Quantity': 15, 'Total Amount': 1500},\n",
       " 1001: {'Product ID': '1040', 'Quantity': 4, 'Total Amount': 800},\n",
       " 1002: {'Product ID': '1037', 'Quantity': 3, 'Total Amount': 150},\n",
       " 1003: {'Product ID': '1023', 'Quantity': 4, 'Total Amount': 120},\n",
       " 1004: {'Product ID': '1009', 'Quantity': 5, 'Total Amount': 800},\n",
       " 1005: {'Product ID': '1004', 'Quantity': 4, 'Total Amount': 720},\n",
       " 1006: {'Product ID': '1012', 'Quantity': 7, 'Total Amount': 1260},\n",
       " 1007: {'Product ID': '1017', 'Quantity': 5, 'Total Amount': 125}}"
      ]
     },
     "execution_count": 13,
     "metadata": {},
     "output_type": "execute_result"
    }
   ],
   "source": [
    "sales"
   ]
  },
  {
   "cell_type": "markdown",
   "metadata": {
    "id": "zpTzKMXUwli3"
   },
   "source": [
    "## Update Inventory"
   ]
  },
  {
   "cell_type": "code",
   "execution_count": 16,
   "metadata": {
    "id": "WgEp8kKjybz_"
   },
   "outputs": [],
   "source": [
    "js = json.dumps(records)\n",
    "\n",
    "fd = open(\"record.json\",'w')\n",
    "fd.write(js)\n",
    "fd.close()"
   ]
  },
  {
   "cell_type": "markdown",
   "metadata": {
    "id": "REaq9V5Bw5Nc"
   },
   "source": [
    "## Sales JSON"
   ]
  },
  {
   "cell_type": "code",
   "execution_count": 17,
   "metadata": {
    "id": "ZnehTWRCxHlm"
   },
   "outputs": [],
   "source": [
    "sl = json.dumps(sales)\n",
    "\n",
    "bd = open(\"sales.json\",'w')\n",
    "bd.write(sl)\n",
    "bd.close()"
   ]
  },
  {
   "cell_type": "code",
   "execution_count": null,
   "metadata": {},
   "outputs": [],
   "source": []
  }
 ],
 "metadata": {
  "colab": {
   "name": "IMS.ipynb",
   "provenance": []
  },
  "kernelspec": {
   "display_name": "Python 3",
   "language": "python",
   "name": "python3"
  },
  "language_info": {
   "codemirror_mode": {
    "name": "ipython",
    "version": 3
   },
   "file_extension": ".py",
   "mimetype": "text/x-python",
   "name": "python",
   "nbconvert_exporter": "python",
   "pygments_lexer": "ipython3",
   "version": "3.8.8"
  }
 },
 "nbformat": 4,
 "nbformat_minor": 1
}
